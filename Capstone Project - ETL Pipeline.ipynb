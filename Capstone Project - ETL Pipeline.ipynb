{
 "cells": [
  {
   "cell_type": "markdown",
   "metadata": {},
   "source": [
    "# Data Engineering - Capstone Project - ETL Pipeline\n",
    "\n",
    "### Step 1: Scope the Project and Gather Data\n",
    "\n",
    "This project aims to gather electrical consumption data from multiple sources, clean and aggregate this data into one consolidated single source of truth database ready to be queried by analysts.  Data will be aggregated into daily and monthly values and placed into seperate tables to speed up analytical queries.  \n",
    "For the purpose of the project data will come from three seperate sources, these contain actual *anonmyised* submeter and main meter data which have been placed in an S3 bucket for learning purposes.  This is a proof of concept idea, to demonstrate knowledge of data engineering principles (AWS and Data warehouisng) learnt throughout the Nanodegree.\n",
    "Each sources contains half-hourly kilowatt consumption values, with some of these dating back to 2015.  \n",
    "\n",
    "A more detailed breakdown of these can be found below.\n",
    "\n",
    "#### Source 1:\n",
    "- Subset of 100 different submeter values dating back to 2015.\n",
    "- Derived from Tridium JACE devices.\n",
    "- Values are given as sequential meter reads.\n",
    "- Values have been exported in CSV format and are located on an S3 bucket.\n",
    "\n",
    "#### Source 2: \n",
    "- Subset of 200 different submeter values dating back to 2019.\n",
    "- Values derived from a proprietary sub meter data provider.\n",
    "- Values are given as delta between sequential meter reads, this is the actual amount consumed in that half-hourly period.\n",
    "- Values have been exported to JSON format and are located on an S3 bucket.\n",
    "\n",
    "#### Source 3: \n",
    "- Subset of monthly main meter reads for June 2018.\n",
    "- Values are given as the actual amount consumed in that half-hourly period.\n",
    "- Values have been exported to JSON format and are lcoated in an S3 bucket.\n",
    "\n",
    "\n",
    "\n"
   ]
  }
 ],
 "metadata": {
  "kernelspec": {
   "display_name": "Python 3",
   "language": "python",
   "name": "python3"
  },
  "language_info": {
   "codemirror_mode": {
    "name": "ipython",
    "version": 3
   },
   "file_extension": ".py",
   "mimetype": "text/x-python",
   "name": "python",
   "nbconvert_exporter": "python",
   "pygments_lexer": "ipython3",
   "version": "3.7.0"
  }
 },
 "nbformat": 4,
 "nbformat_minor": 2
}
